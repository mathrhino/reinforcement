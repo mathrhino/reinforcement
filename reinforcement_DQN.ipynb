{
  "nbformat": 4,
  "nbformat_minor": 0,
  "metadata": {
    "colab": {
      "name": "reinforcement_DQN",
      "provenance": [],
      "authorship_tag": "ABX9TyNR8FdGGRxJEOt5YeFyDGBL",
      "include_colab_link": true
    },
    "kernelspec": {
      "name": "python3",
      "display_name": "Python 3"
    }
  },
  "cells": [
    {
      "cell_type": "markdown",
      "metadata": {
        "id": "view-in-github",
        "colab_type": "text"
      },
      "source": [
        "<a href=\"https://colab.research.google.com/github/mathrhino/reinforcement/blob/main/reinforcement_DQN.ipynb\" target=\"_parent\"><img src=\"https://colab.research.google.com/assets/colab-badge.svg\" alt=\"Open In Colab\"/></a>"
      ]
    },
    {
      "cell_type": "code",
      "metadata": {
        "id": "in_1KtS2Bi76"
      },
      "source": [
        "import gym\n",
        "import math\n",
        "import random\n",
        "import matplotlib\n",
        "import numpy as np\n",
        "import matplotlib.pyplot as plt\n",
        "from collections import namedtuple\n",
        "from itertools import count\n",
        "from PIL import Image\n",
        "\n",
        "import torch\n",
        "import torch.nn as nn\n",
        "import torch.optim as optim\n",
        "import torch.nn.functional as F \n",
        "import torchvision.transforms as T "
      ],
      "execution_count": 1,
      "outputs": []
    },
    {
      "cell_type": "code",
      "metadata": {
        "id": "JS044cXFB8Da"
      },
      "source": [
        "env = gym.make('CartPole-v0').unwrapped\n",
        "\n",
        "is_ipython='inline' in matplotlib.get_backend()\n",
        "if is_ipython:\n",
        "  from IPython import display\n",
        "plt.ion()\n",
        "device = torch.device(\"cuda\" if torch.cuda.is_available else \"cpu\")"
      ],
      "execution_count": 3,
      "outputs": []
    },
    {
      "cell_type": "code",
      "metadata": {
        "id": "1Vn_szfoCb_y"
      },
      "source": [
        "Transition = namedtuple('Transition', ('state', 'action', 'next_state', 'reward'))\n"
      ],
      "execution_count": 4,
      "outputs": []
    },
    {
      "cell_type": "code",
      "metadata": {
        "id": "UsSJYZfACnUq"
      },
      "source": [
        "class ReplayMemory(object):\n",
        "  \n",
        "  def __init__(self, capacity):\n",
        "    self.capacity = capacity\n",
        "    self.memory=[]\n",
        "    self.position=0\n",
        "  \n",
        "  def push(self, *args):\n",
        "    if len(self.memory)< self.capacity:\n",
        "      self.memory.append(None)\n",
        "    self.memory[self.position]=Transition(*args)\n",
        "    self.position=(self.position +1)% self.capacity\n",
        "  \n",
        "  def sample(self, batch_size):\n",
        "    return random.sample(self.memory, batch_size)\n",
        "\n",
        "  def __len__(self):\n",
        "    return len(self.memory)"
      ],
      "execution_count": 5,
      "outputs": []
    }
  ]
}